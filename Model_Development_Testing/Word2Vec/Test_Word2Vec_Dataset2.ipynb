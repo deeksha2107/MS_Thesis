{
 "cells": [
  {
   "cell_type": "code",
   "execution_count": 2,
   "id": "8b44b887-8681-4eb7-8338-ac77cc1e1925",
   "metadata": {
    "id": "8b44b887-8681-4eb7-8338-ac77cc1e1925"
   },
   "outputs": [],
   "source": [
    "# Import the necessary libraries\n",
    "import pandas as pd\n",
    "import numpy as np\n",
    "import time\n",
    "import pickle\n",
    "from sklearn.metrics import classification_report, confusion_matrix, accuracy_score"
   ]
  },
  {
   "cell_type": "code",
   "execution_count": null,
   "id": "0979c266-3b85-4397-b288-9e24c95634a9",
   "metadata": {},
   "outputs": [],
   "source": [
    "# Import the data\n",
    "df_test1 = pd.read_csv(\"Dataset2_2Train_new2.csv\")\n",
    "df_test2 = pd.read_csv(\"Dataset2_2Test_new2.csv\")\n",
    "df_test = pd.concat([df_test1, df_test2], axis=0, ignore_index=True)\n",
    "df_test = df_test.sample(frac=1).reset_index(drop=True)\n",
    "X_test1 = df_test['final_cleaned_text'].values\n",
    "y_test = df_test['label'].values"
   ]
  },
  {
   "cell_type": "code",
   "execution_count": 3,
   "id": "SXzH6YF9raTl",
   "metadata": {
    "colab": {
     "base_uri": "https://localhost:8080/",
     "height": 164
    },
    "id": "SXzH6YF9raTl",
    "outputId": "187a3eb3-f2e5-4452-fce4-27af43c9dd17"
   },
   "outputs": [],
   "source": [
    "# Load the tokenizer \n",
    "with open(\"w2v_vect_fit2.pkl\", \"rb\") as file:\n",
    "  w2v_vect_fit = pickle.load(file)\n",
    "# Load the models\n",
    "with open(\"w2v_mlp_model2.pkl\", \"rb\") as file:\n",
    "  w2v_mlp_best_model = pickle.load(file)\n",
    "with open(\"w2v_knn_model2.pkl\", \"rb\") as file:\n",
    "  w2v_knn_best_model = pickle.load(file)\n",
    "with open(\"w2v_rf_model2.pkl\", \"rb\") as file:\n",
    "  w2v_rf_best_model = pickle.load(file)\n",
    "with open(\"w2v_lr_model2.pkl\", \"rb\") as file:\n",
    "  w2v_lr_best_model = pickle.load(file)\n",
    "with open(\"w2v_svc_model2.pkl\", \"rb\") as file:\n",
    "  w2v_svc_best_model = pickle.load(file)"
   ]
  },
  {
   "cell_type": "code",
   "execution_count": 4,
   "id": "194983fe-01e6-4b7b-adf4-7861bcac04b3",
   "metadata": {
    "id": "194983fe-01e6-4b7b-adf4-7861bcac04b3"
   },
   "outputs": [],
   "source": [
    "#Feature Extraction for Testing data\n",
    "def document_vector(w2v_model, doc):\n",
    "    words = doc.split()\n",
    "    words = [word for word in words if word in w2v_model.wv.key_to_index]\n",
    "    if len(words) == 0:\n",
    "        return np.zeros(w2v_model.vector_size)\n",
    "    return np.mean(w2v_model.wv[words], axis=0)\n",
    "\n",
    "def transform_w2v(X_test, w2v_model):\n",
    "    X_test_vectors = np.array([document_vector(w2v_model, doc) for doc in X_test])\n",
    "    return X_test_vectors"
   ]
  },
  {
   "cell_type": "code",
   "execution_count": 5,
   "id": "d3893561-75a0-4961-86d3-66f8fbd988c9",
   "metadata": {
    "id": "d3893561-75a0-4961-86d3-66f8fbd988c9"
   },
   "outputs": [
    {
     "name": "stdout",
     "output_type": "stream",
     "text": [
      "              precision    recall  f1-score   support\n",
      "\n",
      "           0       0.99      0.93      0.96     22458\n",
      "           1       0.74      0.93      0.82      4491\n",
      "\n",
      "    accuracy                           0.93     26949\n",
      "   macro avg       0.86      0.93      0.89     26949\n",
      "weighted avg       0.94      0.93      0.94     26949\n",
      "\n",
      "[[20969  1489]\n",
      " [  315  4176]]\n",
      "Precision: 0.7371579876434246\n",
      "Recall: 0.9298597194388778\n",
      "FScore: 0.8223710122095313\n",
      "Testing Accuracy: 0.9330587405840662\n",
      "The total testing time is 8.628127336502075 seconds\n"
     ]
    }
   ],
   "source": [
    "#Testing of W2V features of testing data using MLP\n",
    "def check_best_model_MLP(X_test, y_test, w2v_mlp_best_model, w2v_vect_fit):\n",
    "    start_time = time.time()\n",
    "    X_test = pd.Series(X_test)\n",
    "    X_test = X_test.fillna('')\n",
    "    X_test_feature = transform_w2v(X_test, w2v_vect_fit)\n",
    "    y_pred = w2v_mlp_best_model.predict(X_test_feature)\n",
    "    print(classification_report(y_test, y_pred))\n",
    "    print(confusion_matrix(y_test, y_pred))\n",
    "    tn, fp, fn, tp = confusion_matrix(y_test, y_pred).ravel()\n",
    "    p = tp/(tp+fp)\n",
    "    r = tp/(tp+fn)\n",
    "    fscore = (2*p*r)/(p+r)\n",
    "    print(\"Precision:\",p)\n",
    "    print(\"Recall:\",r)\n",
    "    print(\"FScore:\",fscore)\n",
    "    accuracy = accuracy_score(y_test, y_pred)\n",
    "    print(\"Testing Accuracy:\",accuracy)\n",
    "    end_time = time.time()\n",
    "    print(f\"The total testing time is {end_time-start_time} seconds\")\n",
    "check_best_model_MLP(X_test1, y_test, w2v_mlp_best_model, w2v_vect_fit)"
   ]
  },
  {
   "cell_type": "code",
   "execution_count": 6,
   "id": "93eb7ce3-1992-4dd6-a2a3-c0d67543753c",
   "metadata": {
    "colab": {
     "base_uri": "https://localhost:8080/"
    },
    "id": "93eb7ce3-1992-4dd6-a2a3-c0d67543753c",
    "outputId": "773fc444-ddb8-4da7-886d-e456f6ac118b"
   },
   "outputs": [
    {
     "name": "stdout",
     "output_type": "stream",
     "text": [
      "              precision    recall  f1-score   support\n",
      "\n",
      "           0       0.94      0.99      0.96     22458\n",
      "           1       0.93      0.66      0.77      4491\n",
      "\n",
      "    accuracy                           0.94     26949\n",
      "   macro avg       0.93      0.83      0.87     26949\n",
      "weighted avg       0.94      0.94      0.93     26949\n",
      "\n",
      "[[22230   228]\n",
      " [ 1507  2984]]\n",
      "Precision: 0.9290161892901619\n",
      "Recall: 0.6644399910932977\n",
      "FScore: 0.7747630793197455\n",
      "Testing Accuracy: 0.9356191324353408\n",
      "The total testing time is 26.50739812850952 seconds\n"
     ]
    }
   ],
   "source": [
    "#Testing of W2V features of testing data using KNN\n",
    "def check_best_model_KNN(X_test, y_test, w2v_knn_best_model, w2v_vect_fit):\n",
    "    start_time = time.time()\n",
    "    X_test = pd.Series(X_test)\n",
    "    X_test = X_test.fillna('')\n",
    "    X_test_feature = transform_w2v(X_test, w2v_vect_fit)\n",
    "    y_pred = w2v_knn_best_model.predict(X_test_feature)\n",
    "    print(classification_report(y_test, y_pred))\n",
    "    print(confusion_matrix(y_test, y_pred))\n",
    "    tn, fp, fn, tp = confusion_matrix(y_test, y_pred).ravel()\n",
    "    p = tp/(tp+fp)\n",
    "    r = tp/(tp+fn)\n",
    "    fscore = (2*p*r)/(p+r)\n",
    "    print(\"Precision:\",p)\n",
    "    print(\"Recall:\",r)\n",
    "    print(\"FScore:\",fscore)\n",
    "    accuracy = accuracy_score(y_test, y_pred)\n",
    "    print(\"Testing Accuracy:\",accuracy)\n",
    "    end_time = time.time()\n",
    "    print(f\"The total testing time is {end_time-start_time} seconds\")\n",
    "check_best_model_KNN(X_test1, y_test, w2v_knn_best_model, w2v_vect_fit)"
   ]
  },
  {
   "cell_type": "code",
   "execution_count": 8,
   "id": "2473b717-8460-4c72-92e9-1f2cd032e5b3",
   "metadata": {
    "id": "2473b717-8460-4c72-92e9-1f2cd032e5b3"
   },
   "outputs": [
    {
     "name": "stdout",
     "output_type": "stream",
     "text": [
      "              precision    recall  f1-score   support\n",
      "\n",
      "           0       0.95      0.98      0.96     22458\n",
      "           1       0.86      0.75      0.80      4491\n",
      "\n",
      "    accuracy                           0.94     26949\n",
      "   macro avg       0.91      0.86      0.88     26949\n",
      "weighted avg       0.94      0.94      0.94     26949\n",
      "\n",
      "[[21916   542]\n",
      " [ 1128  3363]]\n",
      "Precision: 0.8612035851472472\n",
      "Recall: 0.7488309953239813\n",
      "FScore: 0.8010957598856598\n",
      "Testing Accuracy: 0.9380310957734981\n",
      "The total testing time is 7.89499831199646 seconds\n"
     ]
    }
   ],
   "source": [
    "#Testing of W2V features of testing data using RF\n",
    "def check_best_model_RF(X_test, y_test, w2v_rf_best_model, w2v_vect_fit):\n",
    "    start_time = time.time()\n",
    "    X_test = pd.Series(X_test)\n",
    "    X_test = X_test.fillna('')\n",
    "    X_test_feature = transform_w2v(X_test, w2v_vect_fit)\n",
    "    y_pred = w2v_rf_best_model.predict(X_test_feature)\n",
    "    print(classification_report(y_test, y_pred))\n",
    "    print(confusion_matrix(y_test, y_pred))\n",
    "    tn, fp, fn, tp = confusion_matrix(y_test, y_pred).ravel()\n",
    "    p = tp/(tp+fp)\n",
    "    r = tp/(tp+fn)\n",
    "    fscore = (2*p*r)/(p+r)\n",
    "    print(\"Precision:\",p)\n",
    "    print(\"Recall:\",r)\n",
    "    print(\"FScore:\",fscore)\n",
    "    accuracy = accuracy_score(y_test, y_pred)\n",
    "    print(\"Testing Accuracy:\",accuracy)\n",
    "    end_time = time.time()\n",
    "    print(f\"The total testing time is {end_time-start_time} seconds\")\n",
    "check_best_model_RF(X_test1, y_test, w2v_rf_best_model, w2v_vect_fit)"
   ]
  },
  {
   "cell_type": "code",
   "execution_count": 9,
   "id": "3900549a-fb32-48f2-afc5-97e2c68e7d1f",
   "metadata": {
    "colab": {
     "base_uri": "https://localhost:8080/"
    },
    "id": "3900549a-fb32-48f2-afc5-97e2c68e7d1f",
    "outputId": "cfb76967-6601-454c-d127-ce055240ec07"
   },
   "outputs": [
    {
     "name": "stdout",
     "output_type": "stream",
     "text": [
      "              precision    recall  f1-score   support\n",
      "\n",
      "           0       0.97      0.95      0.96     22458\n",
      "           1       0.78      0.87      0.82      4491\n",
      "\n",
      "    accuracy                           0.94     26949\n",
      "   macro avg       0.87      0.91      0.89     26949\n",
      "weighted avg       0.94      0.94      0.94     26949\n",
      "\n",
      "[[21337  1121]\n",
      " [  593  3898]]\n",
      "Precision: 0.7766487348077307\n",
      "Recall: 0.8679581384992207\n",
      "FScore: 0.8197686645636173\n",
      "Testing Accuracy: 0.936398382129207\n",
      "The total testing time is 7.574327230453491 seconds\n"
     ]
    }
   ],
   "source": [
    "#Testing of W2V features of testing data using LR\n",
    "def check_best_model_LR(X_test, y_test, w2v_lr_best_model, w2v_vect_fit):\n",
    "    start_time = time.time()\n",
    "    X_test = pd.Series(X_test)\n",
    "    X_test = X_test.fillna('')\n",
    "    X_test_feature = transform_w2v(X_test, w2v_vect_fit)\n",
    "    y_pred = w2v_lr_best_model.predict(X_test_feature)\n",
    "    print(classification_report(y_test, y_pred))\n",
    "    print(confusion_matrix(y_test, y_pred))\n",
    "    tn, fp, fn, tp = confusion_matrix(y_test, y_pred).ravel()\n",
    "    p = tp/(tp+fp)\n",
    "    r = tp/(tp+fn)\n",
    "    fscore = (2*p*r)/(p+r)\n",
    "    print(\"Precision:\",p)\n",
    "    print(\"Recall:\",r)\n",
    "    print(\"FScore:\",fscore)\n",
    "    accuracy = accuracy_score(y_test, y_pred)\n",
    "    print(\"Testing Accuracy:\",accuracy)\n",
    "    end_time = time.time()\n",
    "    print(f\"The total testing time is {end_time-start_time} seconds\")\n",
    "check_best_model_LR(X_test1, y_test, w2v_lr_best_model, w2v_vect_fit)"
   ]
  },
  {
   "cell_type": "code",
   "execution_count": 12,
   "id": "0db59323-0bbe-4548-84c6-7685b2412ce1",
   "metadata": {
    "id": "0db59323-0bbe-4548-84c6-7685b2412ce1"
   },
   "outputs": [
    {
     "name": "stdout",
     "output_type": "stream",
     "text": [
      "              precision    recall  f1-score   support\n",
      "\n",
      "           0       0.98      0.95      0.97     22458\n",
      "           1       0.79      0.92      0.85      4491\n",
      "\n",
      "    accuracy                           0.94     26949\n",
      "   macro avg       0.88      0.94      0.91     26949\n",
      "weighted avg       0.95      0.94      0.95     26949\n",
      "\n",
      "[[21330  1128]\n",
      " [  356  4135]]\n",
      "Precision: 0.7856735702071063\n",
      "Recall: 0.920730349588065\n",
      "FScore: 0.8478572893172033\n",
      "Testing Accuracy: 0.9449330216334558\n",
      "The total testing time is 13.069381475448608 seconds\n"
     ]
    }
   ],
   "source": [
    "#Testing of W2V features of testing data using SVC\n",
    "def check_best_model_SVC(X_test, y_test, w2v_svc_best_model, w2v_vect_fit):\n",
    "    start_time = time.time()\n",
    "    X_test = pd.Series(X_test)\n",
    "    X_test = X_test.fillna('')\n",
    "    X_test_feature = transform_w2v(X_test, w2v_vect_fit)\n",
    "    y_pred = w2v_svc_best_model.predict(X_test_feature)\n",
    "    print(classification_report(y_test, y_pred))\n",
    "    print(confusion_matrix(y_test, y_pred))\n",
    "    tn, fp, fn, tp = confusion_matrix(y_test, y_pred).ravel()\n",
    "    p = tp/(tp+fp)\n",
    "    r = tp/(tp+fn)\n",
    "    fscore = (2*p*r)/(p+r)\n",
    "    print(\"Precision:\",p)\n",
    "    print(\"Recall:\",r)\n",
    "    print(\"FScore:\",fscore)\n",
    "    accuracy = accuracy_score(y_test, y_pred)\n",
    "    print(\"Testing Accuracy:\",accuracy)\n",
    "    end_time = time.time()\n",
    "    print(f\"The total testing time is {end_time-start_time} seconds\")\n",
    "check_best_model_SVC(X_test1, y_test, w2v_svc_best_model, w2v_vect_fit)"
   ]
  },
  {
   "cell_type": "code",
   "execution_count": 13,
   "id": "2ff9af2b-1469-4ed0-86d2-4c0adb52e0f1",
   "metadata": {
    "id": "2ff9af2b-1469-4ed0-86d2-4c0adb52e0f1"
   },
   "outputs": [
    {
     "name": "stdout",
     "output_type": "stream",
     "text": [
      "All parameters: {'C': 10, 'break_ties': False, 'cache_size': 200, 'class_weight': None, 'coef0': 0.0, 'decision_function_shape': 'ovr', 'degree': 3, 'gamma': 'scale', 'kernel': 'rbf', 'max_iter': -1, 'probability': False, 'random_state': None, 'shrinking': True, 'tol': 0.001, 'verbose': False}\n"
     ]
    }
   ],
   "source": [
    "all_params = w2v_svc_best_model.get_params()\n",
    "print(\"All parameters:\", all_params)"
   ]
  },
  {
   "cell_type": "code",
   "execution_count": 14,
   "id": "fyh2ZU2vaQW4",
   "metadata": {
    "id": "fyh2ZU2vaQW4"
   },
   "outputs": [
    {
     "name": "stdout",
     "output_type": "stream",
     "text": [
      "All parameters: {'activation': 'relu', 'alpha': 0.0001, 'batch_size': 'auto', 'beta_1': 0.9, 'beta_2': 0.999, 'early_stopping': False, 'epsilon': 1e-08, 'hidden_layer_sizes': (100, 100), 'learning_rate': 'adaptive', 'learning_rate_init': 0.001, 'max_fun': 15000, 'max_iter': 1000, 'momentum': 0.9, 'n_iter_no_change': 10, 'nesterovs_momentum': True, 'power_t': 0.5, 'random_state': None, 'shuffle': True, 'solver': 'adam', 'tol': 0.0001, 'validation_fraction': 0.1, 'verbose': False, 'warm_start': False}\n"
     ]
    }
   ],
   "source": [
    "all_params = w2v_mlp_best_model.get_params()\n",
    "print(\"All parameters:\", all_params)"
   ]
  },
  {
   "cell_type": "code",
   "execution_count": 15,
   "id": "f509b40a-9916-4e36-95d2-c233b2488fc5",
   "metadata": {
    "id": "f509b40a-9916-4e36-95d2-c233b2488fc5"
   },
   "outputs": [
    {
     "name": "stdout",
     "output_type": "stream",
     "text": [
      "All parameters: {'algorithm': 'auto', 'leaf_size': 30, 'metric': 'manhattan', 'metric_params': None, 'n_jobs': None, 'n_neighbors': 3, 'p': 2, 'weights': 'distance'}\n"
     ]
    }
   ],
   "source": [
    "all_params = w2v_knn_best_model.get_params()\n",
    "print(\"All parameters:\", all_params)"
   ]
  },
  {
   "cell_type": "code",
   "execution_count": 16,
   "id": "387fcdc7-7c49-4595-9c85-98439ecec66e",
   "metadata": {},
   "outputs": [
    {
     "name": "stdout",
     "output_type": "stream",
     "text": [
      "All parameters: {'C': 100, 'class_weight': None, 'dual': False, 'fit_intercept': True, 'intercept_scaling': 1, 'l1_ratio': None, 'max_iter': 100, 'multi_class': 'auto', 'n_jobs': None, 'penalty': 'l2', 'random_state': None, 'solver': 'newton-cg', 'tol': 0.0001, 'verbose': 0, 'warm_start': False}\n"
     ]
    }
   ],
   "source": [
    "all_params = w2v_lr_best_model.get_params()\n",
    "print(\"All parameters:\", all_params)"
   ]
  },
  {
   "cell_type": "code",
   "execution_count": 17,
   "id": "50da0e7c-4163-4457-84dc-48d8e969e9b6",
   "metadata": {},
   "outputs": [
    {
     "name": "stdout",
     "output_type": "stream",
     "text": [
      "All parameters: {'bootstrap': True, 'ccp_alpha': 0.0, 'class_weight': None, 'criterion': 'gini', 'max_depth': None, 'max_features': 'sqrt', 'max_leaf_nodes': None, 'max_samples': None, 'min_impurity_decrease': 0.0, 'min_samples_leaf': 1, 'min_samples_split': 2, 'min_weight_fraction_leaf': 0.0, 'monotonic_cst': None, 'n_estimators': 100, 'n_jobs': None, 'oob_score': False, 'random_state': None, 'verbose': 0, 'warm_start': False}\n"
     ]
    }
   ],
   "source": [
    "all_params = w2v_rf_best_model.get_params()\n",
    "print(\"All parameters:\", all_params)"
   ]
  }
 ],
 "metadata": {
  "colab": {
   "provenance": []
  },
  "kernelspec": {
   "display_name": "Python 3 (ipykernel)",
   "language": "python",
   "name": "python3"
  },
  "language_info": {
   "codemirror_mode": {
    "name": "ipython",
    "version": 3
   },
   "file_extension": ".py",
   "mimetype": "text/x-python",
   "name": "python",
   "nbconvert_exporter": "python",
   "pygments_lexer": "ipython3",
   "version": "3.12.4"
  }
 },
 "nbformat": 4,
 "nbformat_minor": 5
}
