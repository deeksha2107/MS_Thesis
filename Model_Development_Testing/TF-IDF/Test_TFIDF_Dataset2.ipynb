{
 "cells": [
  {
   "cell_type": "code",
   "execution_count": null,
   "id": "388e03fb-ad0c-42ce-b106-e5f899208570",
   "metadata": {},
   "outputs": [],
   "source": [
    "#Import the necessary libraries\n",
    "import pandas as pd\n",
    "import numpy as np\n",
    "import time\n",
    "import pickle\n",
    "from sklearn.metrics import classification_report, confusion_matrix, accuracy_score"
   ]
  },
  {
   "cell_type": "code",
   "execution_count": null,
   "id": "8b44b887-8681-4eb7-8338-ac77cc1e1925",
   "metadata": {
    "id": "8b44b887-8681-4eb7-8338-ac77cc1e1925"
   },
   "outputs": [],
   "source": [
    "#Load the testing dataset\n",
    "df_test1 = pd.read_csv(\"Dataset2_2Train_new2.csv\")\n",
    "df_test2 = pd.read_csv(\"Dataset2_2Test_new2.csv\")\n",
    "df_test = pd.concat([df_test1, df_test2], axis=0, ignore_index=True)\n",
    "df_test = df_test.sample(frac=1).reset_index(drop=True)\n",
    "X_test1 = df_test['final_cleaned_text'].values\n",
    "y_test = df_test['label'].values"
   ]
  },
  {
   "cell_type": "code",
   "execution_count": null,
   "id": "SXzH6YF9raTl",
   "metadata": {
    "colab": {
     "base_uri": "https://localhost:8080/",
     "height": 164
    },
    "id": "SXzH6YF9raTl",
    "outputId": "187a3eb3-f2e5-4452-fce4-27af43c9dd17"
   },
   "outputs": [],
   "source": [
    "# Load the tokenizer file\n",
    "with open(\"tfidf_vect_fit2.pkl\", \"rb\") as file:\n",
    "  tfidf_vect_fit = pickle.load(file)\n",
    "# Load the stored model files\n",
    "with open(\"tfidf_mlp_model2.pkl\", \"rb\") as file:\n",
    "  tfidf_mlp_best_model = pickle.load(file)\n",
    "with open(\"tfidf_knn_model2.pkl\", \"rb\") as file:\n",
    "  tfidf_knn_best_model = pickle.load(file)\n",
    "with open(\"tfidf_rf_model2.pkl\", \"rb\") as file:\n",
    "  tfidf_rf_best_model = pickle.load(file)\n",
    "with open(\"tfidf_lr_model2.pkl\", \"rb\") as file:\n",
    "  tfidf_lr_best_model = pickle.load(file)\n",
    "with open(\"tfidf_svc_model2.pkl\", \"rb\") as file:\n",
    "  tfidf_svc_best_model = pickle.load(file)"
   ]
  },
  {
   "cell_type": "code",
   "execution_count": null,
   "id": "d3893561-75a0-4961-86d3-66f8fbd988c9",
   "metadata": {
    "id": "d3893561-75a0-4961-86d3-66f8fbd988c9"
   },
   "outputs": [],
   "source": [
    "#Testing of TFIDF features of testing data using MLP\n",
    "def check_best_model_MLP(X_test, y_test, tfidf_mlp_best_model, tfidf_vect_fit):\n",
    "    start_time = time.time()\n",
    "    X_test = pd.Series(X_test)\n",
    "    X_test = X_test.fillna('')\n",
    "    X_test_feature = tfidf_vect_fit.transform(X_test).toarray()\n",
    "    y_pred = tfidf_mlp_best_model.predict(X_test_feature)\n",
    "    print(classification_report(y_test, y_pred))\n",
    "    print(confusion_matrix(y_test, y_pred))\n",
    "    tn, fp, fn, tp = confusion_matrix(y_test, y_pred).ravel()\n",
    "    p = tp/(tp+fp)\n",
    "    r = tp/(tp+fn)\n",
    "    fscore = (2*p*r)/(p+r)\n",
    "    print(\"Precision:\",p)\n",
    "    print(\"Recall:\",r)\n",
    "    print(\"FScore:\",fscore)\n",
    "    accuracy = accuracy_score(y_test, y_pred)\n",
    "    print(\"Testing Accuracy:\",accuracy)\n",
    "    end_time = time.time()\n",
    "    print(f\"The total testing time is {end_time-start_time} seconds\")\n",
    "check_best_model_MLP(X_test1, y_test, tfidf_mlp_best_model, tfidf_vect_fit)"
   ]
  },
  {
   "cell_type": "code",
   "execution_count": null,
   "id": "93eb7ce3-1992-4dd6-a2a3-c0d67543753c",
   "metadata": {
    "colab": {
     "base_uri": "https://localhost:8080/"
    },
    "id": "93eb7ce3-1992-4dd6-a2a3-c0d67543753c",
    "outputId": "773fc444-ddb8-4da7-886d-e456f6ac118b"
   },
   "outputs": [],
   "source": [
    "#Testing of TFIDF features of testing data using KNN\n",
    "def check_best_model_KNN(X_test, y_test, tfidf_knn_best_model, tfidf_vect_fit):\n",
    "    start_time = time.time()\n",
    "    X_test = pd.Series(X_test)\n",
    "    X_test = X_test.fillna('')\n",
    "    X_test_feature = tfidf_vect_fit.transform(X_test).toarray()\n",
    "    y_pred = tfidf_knn_best_model.predict(X_test_feature)\n",
    "    print(classification_report(y_test, y_pred))\n",
    "    print(confusion_matrix(y_test, y_pred))\n",
    "    tn, fp, fn, tp = confusion_matrix(y_test, y_pred).ravel()\n",
    "    p = tp/(tp+fp)\n",
    "    r = tp/(tp+fn)\n",
    "    fscore = (2*p*r)/(p+r)\n",
    "    print(\"Precision:\",p)\n",
    "    print(\"Recall:\",r)\n",
    "    print(\"FScore:\",fscore)\n",
    "    accuracy = accuracy_score(y_test, y_pred)\n",
    "    print(\"Testing Accuracy:\",accuracy)\n",
    "    end_time = time.time()\n",
    "    print(f\"The total testing time is {end_time-start_time} seconds\")\n",
    "check_best_model_KNN(X_test1, y_test, tfidf_knn_best_model, tfidf_vect_fit)"
   ]
  },
  {
   "cell_type": "code",
   "execution_count": null,
   "id": "2473b717-8460-4c72-92e9-1f2cd032e5b3",
   "metadata": {
    "id": "2473b717-8460-4c72-92e9-1f2cd032e5b3"
   },
   "outputs": [],
   "source": [
    "#Testing of TFIDF features of testing data using RF\n",
    "def check_best_model_RF(X_test, y_test, tfidf_rf_best_model, tfidf_vect_fit):\n",
    "    start_time = time.time()\n",
    "    X_test = pd.Series(X_test)\n",
    "    X_test = X_test.fillna('')\n",
    "    X_test_feature = tfidf_vect_fit.transform(X_test).toarray()\n",
    "    y_pred = tfidf_rf_best_model.predict(X_test_feature)\n",
    "    print(classification_report(y_test, y_pred))\n",
    "    print(confusion_matrix(y_test, y_pred))\n",
    "    tn, fp, fn, tp = confusion_matrix(y_test, y_pred).ravel()\n",
    "    p = tp/(tp+fp)\n",
    "    r = tp/(tp+fn)\n",
    "    fscore = (2*p*r)/(p+r)\n",
    "    print(\"Precision:\",p)\n",
    "    print(\"Recall:\",r)\n",
    "    print(\"FScore:\",fscore)\n",
    "    accuracy = accuracy_score(y_test, y_pred)\n",
    "    print(\"Testing Accuracy:\",accuracy)\n",
    "    end_time = time.time()\n",
    "    print(f\"The total testing time is {end_time-start_time} seconds\")\n",
    "check_best_model_RF(X_test1, y_test, tfidf_rf_best_model, tfidf_vect_fit)"
   ]
  },
  {
   "cell_type": "code",
   "execution_count": null,
   "id": "3900549a-fb32-48f2-afc5-97e2c68e7d1f",
   "metadata": {
    "colab": {
     "base_uri": "https://localhost:8080/"
    },
    "id": "3900549a-fb32-48f2-afc5-97e2c68e7d1f",
    "outputId": "cfb76967-6601-454c-d127-ce055240ec07"
   },
   "outputs": [],
   "source": [
    "#Testing of TFIDF features of testing data using LR\n",
    "def check_best_model_LR(X_test, y_test, tfidf_lr_best_model, tfidf_vect_fit):\n",
    "    start_time = time.time()\n",
    "    X_test = pd.Series(X_test)\n",
    "    X_test = X_test.fillna('')\n",
    "    X_test_feature = tfidf_vect_fit.transform(X_test).toarray()\n",
    "    y_pred = tfidf_lr_best_model.predict(X_test_feature)\n",
    "    print(classification_report(y_test, y_pred))\n",
    "    print(confusion_matrix(y_test, y_pred))\n",
    "    tn, fp, fn, tp = confusion_matrix(y_test, y_pred).ravel()\n",
    "    p = tp/(tp+fp)\n",
    "    r = tp/(tp+fn)\n",
    "    fscore = (2*p*r)/(p+r)\n",
    "    print(\"Precision:\",p)\n",
    "    print(\"Recall:\",r)\n",
    "    print(\"FScore:\",fscore)\n",
    "    accuracy = accuracy_score(y_test, y_pred)\n",
    "    print(\"Testing Accuracy:\",accuracy)\n",
    "    end_time = time.time()\n",
    "    print(f\"The total testing time is {end_time-start_time} seconds\")\n",
    "check_best_model_LR(X_test1, y_test, tfidf_lr_best_model, tfidf_vect_fit)"
   ]
  },
  {
   "cell_type": "code",
   "execution_count": null,
   "id": "0db59323-0bbe-4548-84c6-7685b2412ce1",
   "metadata": {
    "id": "0db59323-0bbe-4548-84c6-7685b2412ce1"
   },
   "outputs": [],
   "source": [
    "#Testing of TFIDF features of testing data using SVC\n",
    "def check_best_model_SVC(X_test, y_test, tfidf_svc_best_model, tfidf_vect_fit):\n",
    "    start_time = time.time()\n",
    "    X_test = pd.Series(X_test)\n",
    "    X_test = X_test.fillna('')\n",
    "    X_test_feature = tfidf_vect_fit.transform(X_test).toarray()\n",
    "    y_pred = tfidf_svc_best_model.predict(X_test_feature)\n",
    "    print(classification_report(y_test, y_pred))\n",
    "    print(confusion_matrix(y_test, y_pred))\n",
    "    tn, fp, fn, tp = confusion_matrix(y_test, y_pred).ravel()\n",
    "    p = tp/(tp+fp)\n",
    "    r = tp/(tp+fn)\n",
    "    fscore = (2*p*r)/(p+r)\n",
    "    print(\"Precision:\",p)\n",
    "    print(\"Recall:\",r)\n",
    "    print(\"FScore:\",fscore)\n",
    "    accuracy = accuracy_score(y_test, y_pred)\n",
    "    print(\"Testing Accuracy:\",accuracy)\n",
    "    end_time = time.time()\n",
    "    print(f\"The total testing time is {end_time-start_time} seconds\")\n",
    "check_best_model_SVC(X_test1, y_test, tfidf_svc_best_model, tfidf_vect_fit)"
   ]
  },
  {
   "cell_type": "code",
   "execution_count": null,
   "id": "2ff9af2b-1469-4ed0-86d2-4c0adb52e0f1",
   "metadata": {
    "id": "2ff9af2b-1469-4ed0-86d2-4c0adb52e0f1"
   },
   "outputs": [],
   "source": [
    "all_params = tfidf_svc_best_model.get_params()\n",
    "print(\"All parameters:\", all_params)"
   ]
  },
  {
   "cell_type": "code",
   "execution_count": null,
   "id": "fyh2ZU2vaQW4",
   "metadata": {
    "id": "fyh2ZU2vaQW4"
   },
   "outputs": [],
   "source": [
    "all_params = tfidf_mlp_best_model.get_params()\n",
    "print(\"All parameters:\", all_params)"
   ]
  },
  {
   "cell_type": "code",
   "execution_count": null,
   "id": "f509b40a-9916-4e36-95d2-c233b2488fc5",
   "metadata": {
    "id": "f509b40a-9916-4e36-95d2-c233b2488fc5"
   },
   "outputs": [],
   "source": [
    "all_params = tfidf_knn_best_model.get_params()\n",
    "print(\"All parameters:\", all_params)"
   ]
  },
  {
   "cell_type": "code",
   "execution_count": null,
   "id": "387fcdc7-7c49-4595-9c85-98439ecec66e",
   "metadata": {},
   "outputs": [],
   "source": [
    "all_params = tfidf_lr_best_model.get_params()\n",
    "print(\"All parameters:\", all_params)"
   ]
  },
  {
   "cell_type": "code",
   "execution_count": null,
   "id": "50da0e7c-4163-4457-84dc-48d8e969e9b6",
   "metadata": {},
   "outputs": [],
   "source": [
    "all_params = tfidf_rf_best_model.get_params()\n",
    "print(\"All parameters:\", all_params)"
   ]
  },
  {
   "cell_type": "code",
   "execution_count": null,
   "id": "c7f19f61-0162-42d1-9fad-30b581dacf4b",
   "metadata": {},
   "outputs": [],
   "source": []
  }
 ],
 "metadata": {
  "colab": {
   "provenance": []
  },
  "kernelspec": {
   "display_name": "Python 3 (ipykernel)",
   "language": "python",
   "name": "python3"
  },
  "language_info": {
   "codemirror_mode": {
    "name": "ipython",
    "version": 3
   },
   "file_extension": ".py",
   "mimetype": "text/x-python",
   "name": "python",
   "nbconvert_exporter": "python",
   "pygments_lexer": "ipython3",
   "version": "3.12.4"
  }
 },
 "nbformat": 4,
 "nbformat_minor": 5
}
