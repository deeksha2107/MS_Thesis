{
 "cells": [
  {
   "cell_type": "code",
   "execution_count": 1,
   "id": "8b44b887-8681-4eb7-8338-ac77cc1e1925",
   "metadata": {
    "id": "8b44b887-8681-4eb7-8338-ac77cc1e1925"
   },
   "outputs": [],
   "source": [
    "# Import the necessary libraries\n",
    "import pandas as pd\n",
    "import numpy as np\n",
    "import time\n",
    "import pickle\n",
    "from sklearn.metrics import classification_report, confusion_matrix, accuracy_score"
   ]
  },
  {
   "cell_type": "code",
   "execution_count": 16,
   "id": "fbae53f7-9fbd-4f59-abbb-0eeb3ba8df6f",
   "metadata": {},
   "outputs": [],
   "source": [
    "# Load the testing dataset\n",
    "df_test1 = pd.read_csv(\"Dataset2_2Train_new2.csv\")\n",
    "df_test2 = pd.read_csv(\"Dataset2_2Test_new2.csv\")\n",
    "df_test = pd.concat([df_test1, df_test2], axis=0, ignore_index=True)\n",
    "df_test = df_test.sample(frac=1).reset_index(drop=True)\n",
    "X_test1 = df_test['final_cleaned_text'].values\n",
    "y_test = df_test['label'].values"
   ]
  },
  {
   "cell_type": "code",
   "execution_count": 50,
   "id": "SXzH6YF9raTl",
   "metadata": {
    "colab": {
     "base_uri": "https://localhost:8080/",
     "height": 164
    },
    "id": "SXzH6YF9raTl",
    "outputId": "187a3eb3-f2e5-4452-fce4-27af43c9dd17"
   },
   "outputs": [],
   "source": [
    "# Load the tokenizer\n",
    "with open(\"glove_vect_fit2.pkl\", \"rb\") as file:\n",
    "  glove_vect_fit = pickle.load(file)\n",
    "# Load the models\n",
    "with open(\"glove_mlp_model2.pkl\", \"rb\") as file:\n",
    "  glove_mlp_best_model = pickle.load(file)\n",
    "with open(\"glove_knn_model2.pkl\", \"rb\") as file:\n",
    "  glove_knn_best_model = pickle.load(file)\n",
    "with open(\"glove_rf_model2.pkl\", \"rb\") as file:\n",
    "  glove_rf_best_model = pickle.load(file)\n",
    "with open(\"glove_lr_model2.pkl\", \"rb\") as file:\n",
    "  glove_lr_best_model = pickle.load(file)\n",
    "with open(\"glove_svc_model2.pkl\", \"rb\") as file:\n",
    "  glove_svc_best_model = pickle.load(file)"
   ]
  },
  {
   "cell_type": "code",
   "execution_count": 52,
   "id": "194983fe-01e6-4b7b-adf4-7861bcac04b3",
   "metadata": {
    "id": "194983fe-01e6-4b7b-adf4-7861bcac04b3"
   },
   "outputs": [],
   "source": [
    "# Function to generate document vectors using GloVe embeddings\n",
    "def document_vector(glove_model, email):\n",
    "    words = email.split()\n",
    "    return np.mean([glove_model[word] for word in words if word in glove_model] or [np.zeros(len(next(iter(glove_model.values()))))], axis=0)\n",
    "    \n",
    "# Function to transform test data using GloVe embeddings\n",
    "def transform_glove(X_test, glove_model):\n",
    "    X_test_vectors = np.array([document_vector(glove_model, email) for email in X_test])\n",
    "    return X_test_vectors"
   ]
  },
  {
   "cell_type": "code",
   "execution_count": 54,
   "id": "d3893561-75a0-4961-86d3-66f8fbd988c9",
   "metadata": {
    "id": "d3893561-75a0-4961-86d3-66f8fbd988c9"
   },
   "outputs": [
    {
     "name": "stdout",
     "output_type": "stream",
     "text": [
      "              precision    recall  f1-score   support\n",
      "\n",
      "           0       0.97      0.95      0.96     22458\n",
      "           1       0.79      0.85      0.82      4491\n",
      "\n",
      "    accuracy                           0.94     26949\n",
      "   macro avg       0.88      0.90      0.89     26949\n",
      "weighted avg       0.94      0.94      0.94     26949\n",
      "\n",
      "[[21413  1045]\n",
      " [  661  3830]]\n",
      "Precision: 0.7856410256410257\n",
      "Recall: 0.8528167446003118\n",
      "FScore: 0.8178518043988896\n",
      "Testing Accuracy: 0.9366952391554417\n",
      "The total testing time is 2.4799370765686035 seconds\n"
     ]
    }
   ],
   "source": [
    "#Testing of Glove features of testing data using MLP\n",
    "def check_best_model_MLP(X_test, y_test, glove_mlp_best_model, glove_vect_fit):\n",
    "    start_time = time.time()\n",
    "    X_test = pd.Series(X_test)\n",
    "    X_test = X_test.fillna('')\n",
    "    X_test_feature = transform_glove(X_test, glove_vect_fit)\n",
    "    y_pred = glove_mlp_best_model.predict(X_test_feature)\n",
    "    print(classification_report(y_test, y_pred))\n",
    "    print(confusion_matrix(y_test, y_pred))\n",
    "    tn, fp, fn, tp = confusion_matrix(y_test, y_pred).ravel()\n",
    "    p = tp/(tp+fp)\n",
    "    r = tp/(tp+fn)\n",
    "    fscore = (2*p*r)/(p+r)\n",
    "    print(\"Precision:\",p)\n",
    "    print(\"Recall:\",r)\n",
    "    print(\"FScore:\",fscore)\n",
    "    accuracy = accuracy_score(y_test, y_pred)\n",
    "    print(\"Testing Accuracy:\",accuracy)\n",
    "    end_time = time.time()\n",
    "    print(f\"The total testing time is {end_time-start_time} seconds\")\n",
    "check_best_model_MLP(X_test1, y_test, glove_mlp_best_model, glove_vect_fit)"
   ]
  },
  {
   "cell_type": "code",
   "execution_count": 55,
   "id": "93eb7ce3-1992-4dd6-a2a3-c0d67543753c",
   "metadata": {
    "colab": {
     "base_uri": "https://localhost:8080/"
    },
    "id": "93eb7ce3-1992-4dd6-a2a3-c0d67543753c",
    "outputId": "773fc444-ddb8-4da7-886d-e456f6ac118b"
   },
   "outputs": [
    {
     "name": "stdout",
     "output_type": "stream",
     "text": [
      "              precision    recall  f1-score   support\n",
      "\n",
      "           0       0.94      0.96      0.95     22458\n",
      "           1       0.78      0.69      0.73      4491\n",
      "\n",
      "    accuracy                           0.92     26949\n",
      "   macro avg       0.86      0.82      0.84     26949\n",
      "weighted avg       0.91      0.92      0.91     26949\n",
      "\n",
      "[[21584   874]\n",
      " [ 1399  3092]]\n",
      "Precision: 0.7796268280383257\n",
      "Recall: 0.6884880872856824\n",
      "FScore: 0.7312285680501359\n",
      "Testing Accuracy: 0.9156554974210546\n",
      "The total testing time is 19.628166437149048 seconds\n"
     ]
    }
   ],
   "source": [
    "#Testing of Glove features of testing data using KNN\n",
    "def check_best_model_KNN(X_test, y_test, glove_knn_best_model, glove_vect_fit):\n",
    "    start_time = time.time()\n",
    "    X_test = pd.Series(X_test)\n",
    "    X_test = X_test.fillna('')\n",
    "    X_test_feature = transform_glove(X_test, glove_vect_fit)\n",
    "    y_pred = glove_knn_best_model.predict(X_test_feature)\n",
    "    print(classification_report(y_test, y_pred))\n",
    "    print(confusion_matrix(y_test, y_pred))\n",
    "    tn, fp, fn, tp = confusion_matrix(y_test, y_pred).ravel()\n",
    "    p = tp/(tp+fp)\n",
    "    r = tp/(tp+fn)\n",
    "    fscore = (2*p*r)/(p+r)\n",
    "    print(\"Precision:\",p)\n",
    "    print(\"Recall:\",r)\n",
    "    print(\"FScore:\",fscore)\n",
    "    accuracy = accuracy_score(y_test, y_pred)\n",
    "    print(\"Testing Accuracy:\",accuracy)\n",
    "    end_time = time.time()\n",
    "    print(f\"The total testing time is {end_time-start_time} seconds\")\n",
    "check_best_model_KNN(X_test1, y_test, glove_knn_best_model, glove_vect_fit)"
   ]
  },
  {
   "cell_type": "code",
   "execution_count": 56,
   "id": "2473b717-8460-4c72-92e9-1f2cd032e5b3",
   "metadata": {
    "id": "2473b717-8460-4c72-92e9-1f2cd032e5b3"
   },
   "outputs": [
    {
     "name": "stdout",
     "output_type": "stream",
     "text": [
      "              precision    recall  f1-score   support\n",
      "\n",
      "           0       0.96      0.93      0.95     22458\n",
      "           1       0.70      0.80      0.75      4491\n",
      "\n",
      "    accuracy                           0.91     26949\n",
      "   macro avg       0.83      0.86      0.85     26949\n",
      "weighted avg       0.92      0.91      0.91     26949\n",
      "\n",
      "[[20948  1510]\n",
      " [  911  3580]]\n",
      "Precision: 0.7033398821218074\n",
      "Recall: 0.7971498552660877\n",
      "FScore: 0.7473123891034338\n",
      "Testing Accuracy: 0.9101636424357119\n",
      "The total testing time is 2.647120237350464 seconds\n"
     ]
    }
   ],
   "source": [
    "#Testing of Glove features of testing data using RF\n",
    "def check_best_model_RF(X_test, y_test, glove_rf_best_model, glove_vect_fit):\n",
    "    start_time = time.time()\n",
    "    X_test = pd.Series(X_test)\n",
    "    X_test = X_test.fillna('')\n",
    "    X_test_feature = transform_glove(X_test, glove_vect_fit)\n",
    "    y_pred = glove_rf_best_model.predict(X_test_feature)\n",
    "    print(classification_report(y_test, y_pred))\n",
    "    print(confusion_matrix(y_test, y_pred))\n",
    "    tn, fp, fn, tp = confusion_matrix(y_test, y_pred).ravel()\n",
    "    p = tp/(tp+fp)\n",
    "    r = tp/(tp+fn)\n",
    "    fscore = (2*p*r)/(p+r)\n",
    "    print(\"Precision:\",p)\n",
    "    print(\"Recall:\",r)\n",
    "    print(\"FScore:\",fscore)\n",
    "    accuracy = accuracy_score(y_test, y_pred)\n",
    "    print(\"Testing Accuracy:\",accuracy)\n",
    "    end_time = time.time()\n",
    "    print(f\"The total testing time is {end_time-start_time} seconds\")\n",
    "check_best_model_RF(X_test1, y_test, glove_rf_best_model, glove_vect_fit)"
   ]
  },
  {
   "cell_type": "code",
   "execution_count": 57,
   "id": "3900549a-fb32-48f2-afc5-97e2c68e7d1f",
   "metadata": {
    "colab": {
     "base_uri": "https://localhost:8080/"
    },
    "id": "3900549a-fb32-48f2-afc5-97e2c68e7d1f",
    "outputId": "cfb76967-6601-454c-d127-ce055240ec07"
   },
   "outputs": [
    {
     "name": "stdout",
     "output_type": "stream",
     "text": [
      "              precision    recall  f1-score   support\n",
      "\n",
      "           0       0.96      0.95      0.95     22458\n",
      "           1       0.75      0.80      0.77      4491\n",
      "\n",
      "    accuracy                           0.92     26949\n",
      "   macro avg       0.86      0.87      0.86     26949\n",
      "weighted avg       0.92      0.92      0.92     26949\n",
      "\n",
      "[[21274  1184]\n",
      " [  913  3578]]\n",
      "Precision: 0.751364972700546\n",
      "Recall: 0.7967045201514139\n",
      "FScore: 0.7733707986598941\n",
      "Testing Accuracy: 0.9221863519982189\n",
      "The total testing time is 2.4183874130249023 seconds\n"
     ]
    }
   ],
   "source": [
    "#Testing of Glove features of testing data using LR\n",
    "def check_best_model_LR(X_test, y_test, glove_lr_best_model, glove_vect_fit):\n",
    "    start_time = time.time()\n",
    "    X_test = pd.Series(X_test)\n",
    "    X_test = X_test.fillna('')\n",
    "    X_test_feature = transform_glove(X_test, glove_vect_fit)\n",
    "    y_pred = glove_lr_best_model.predict(X_test_feature)\n",
    "    print(classification_report(y_test, y_pred))\n",
    "    print(confusion_matrix(y_test, y_pred))\n",
    "    tn, fp, fn, tp = confusion_matrix(y_test, y_pred).ravel()\n",
    "    p = tp/(tp+fp)\n",
    "    r = tp/(tp+fn)\n",
    "    fscore = (2*p*r)/(p+r)\n",
    "    print(\"Precision:\",p)\n",
    "    print(\"Recall:\",r)\n",
    "    print(\"FScore:\",fscore)\n",
    "    accuracy = accuracy_score(y_test, y_pred)\n",
    "    print(\"Testing Accuracy:\",accuracy)\n",
    "    end_time = time.time()\n",
    "    print(f\"The total testing time is {end_time-start_time} seconds\")\n",
    "check_best_model_LR(X_test1, y_test, glove_lr_best_model, glove_vect_fit)"
   ]
  },
  {
   "cell_type": "code",
   "execution_count": 58,
   "id": "0db59323-0bbe-4548-84c6-7685b2412ce1",
   "metadata": {
    "id": "0db59323-0bbe-4548-84c6-7685b2412ce1"
   },
   "outputs": [
    {
     "name": "stdout",
     "output_type": "stream",
     "text": [
      "              precision    recall  f1-score   support\n",
      "\n",
      "           0       0.97      0.95      0.96     22458\n",
      "           1       0.79      0.85      0.82      4491\n",
      "\n",
      "    accuracy                           0.94     26949\n",
      "   macro avg       0.88      0.90      0.89     26949\n",
      "weighted avg       0.94      0.94      0.94     26949\n",
      "\n",
      "[[21409  1049]\n",
      " [  654  3837]]\n",
      "Precision: 0.7853049529267294\n",
      "Recall: 0.85437541750167\n",
      "FScore: 0.8183854111122961\n",
      "Testing Accuracy: 0.9368065605402798\n",
      "The total testing time is 11.375045776367188 seconds\n"
     ]
    }
   ],
   "source": [
    "#Testing of Glove features of testing data using SVC\n",
    "def check_best_model_SVC(X_test, y_test, glove_svc_best_model, glove_vect_fit):\n",
    "    start_time = time.time()\n",
    "    X_test = pd.Series(X_test)\n",
    "    X_test = X_test.fillna('')\n",
    "    X_test_feature = transform_glove(X_test, glove_vect_fit)\n",
    "    y_pred = glove_svc_best_model.predict(X_test_feature)\n",
    "    print(classification_report(y_test, y_pred))\n",
    "    print(confusion_matrix(y_test, y_pred))\n",
    "    tn, fp, fn, tp = confusion_matrix(y_test, y_pred).ravel()\n",
    "    p = tp/(tp+fp)\n",
    "    r = tp/(tp+fn)\n",
    "    fscore = (2*p*r)/(p+r)\n",
    "    print(\"Precision:\",p)\n",
    "    print(\"Recall:\",r)\n",
    "    print(\"FScore:\",fscore)\n",
    "    accuracy = accuracy_score(y_test, y_pred)\n",
    "    print(\"Testing Accuracy:\",accuracy)\n",
    "    end_time = time.time()\n",
    "    print(f\"The total testing time is {end_time-start_time} seconds\")\n",
    "check_best_model_SVC(X_test1, y_test, glove_svc_best_model, glove_vect_fit)"
   ]
  },
  {
   "cell_type": "code",
   "execution_count": 59,
   "id": "2ff9af2b-1469-4ed0-86d2-4c0adb52e0f1",
   "metadata": {
    "id": "2ff9af2b-1469-4ed0-86d2-4c0adb52e0f1"
   },
   "outputs": [
    {
     "name": "stdout",
     "output_type": "stream",
     "text": [
      "All parameters: {'C': 10, 'break_ties': False, 'cache_size': 200, 'class_weight': None, 'coef0': 0.0, 'decision_function_shape': 'ovr', 'degree': 3, 'gamma': 'scale', 'kernel': 'rbf', 'max_iter': -1, 'probability': False, 'random_state': None, 'shrinking': True, 'tol': 0.001, 'verbose': False}\n"
     ]
    }
   ],
   "source": [
    "all_params = glove_svc_best_model.get_params()\n",
    "print(\"All parameters:\", all_params)"
   ]
  },
  {
   "cell_type": "code",
   "execution_count": 60,
   "id": "fyh2ZU2vaQW4",
   "metadata": {
    "id": "fyh2ZU2vaQW4"
   },
   "outputs": [
    {
     "name": "stdout",
     "output_type": "stream",
     "text": [
      "All parameters: {'activation': 'relu', 'alpha': 0.0001, 'batch_size': 'auto', 'beta_1': 0.9, 'beta_2': 0.999, 'early_stopping': False, 'epsilon': 1e-08, 'hidden_layer_sizes': (100, 100), 'learning_rate': 'constant', 'learning_rate_init': 0.001, 'max_fun': 15000, 'max_iter': 1000, 'momentum': 0.9, 'n_iter_no_change': 10, 'nesterovs_momentum': True, 'power_t': 0.5, 'random_state': None, 'shuffle': True, 'solver': 'adam', 'tol': 0.0001, 'validation_fraction': 0.1, 'verbose': False, 'warm_start': False}\n"
     ]
    }
   ],
   "source": [
    "all_params = glove_mlp_best_model.get_params()\n",
    "print(\"All parameters:\", all_params)"
   ]
  },
  {
   "cell_type": "code",
   "execution_count": 61,
   "id": "f509b40a-9916-4e36-95d2-c233b2488fc5",
   "metadata": {
    "id": "f509b40a-9916-4e36-95d2-c233b2488fc5"
   },
   "outputs": [
    {
     "name": "stdout",
     "output_type": "stream",
     "text": [
      "All parameters: {'algorithm': 'auto', 'leaf_size': 30, 'metric': 'manhattan', 'metric_params': None, 'n_jobs': None, 'n_neighbors': 3, 'p': 2, 'weights': 'distance'}\n"
     ]
    }
   ],
   "source": [
    "all_params = glove_knn_best_model.get_params()\n",
    "print(\"All parameters:\", all_params)"
   ]
  },
  {
   "cell_type": "code",
   "execution_count": 62,
   "id": "387fcdc7-7c49-4595-9c85-98439ecec66e",
   "metadata": {},
   "outputs": [
    {
     "name": "stdout",
     "output_type": "stream",
     "text": [
      "All parameters: {'C': 100, 'class_weight': None, 'dual': False, 'fit_intercept': True, 'intercept_scaling': 1, 'l1_ratio': None, 'max_iter': 100, 'multi_class': 'auto', 'n_jobs': None, 'penalty': 'l2', 'random_state': None, 'solver': 'newton-cg', 'tol': 0.0001, 'verbose': 0, 'warm_start': False}\n"
     ]
    }
   ],
   "source": [
    "all_params = glove_lr_best_model.get_params()\n",
    "print(\"All parameters:\", all_params)"
   ]
  },
  {
   "cell_type": "code",
   "execution_count": 63,
   "id": "50da0e7c-4163-4457-84dc-48d8e969e9b6",
   "metadata": {},
   "outputs": [
    {
     "name": "stdout",
     "output_type": "stream",
     "text": [
      "All parameters: {'bootstrap': True, 'ccp_alpha': 0.0, 'class_weight': None, 'criterion': 'gini', 'max_depth': None, 'max_features': 'sqrt', 'max_leaf_nodes': None, 'max_samples': None, 'min_impurity_decrease': 0.0, 'min_samples_leaf': 1, 'min_samples_split': 2, 'min_weight_fraction_leaf': 0.0, 'monotonic_cst': None, 'n_estimators': 100, 'n_jobs': None, 'oob_score': False, 'random_state': None, 'verbose': 0, 'warm_start': False}\n"
     ]
    }
   ],
   "source": [
    "all_params = glove_rf_best_model.get_params()\n",
    "print(\"All parameters:\", all_params)"
   ]
  }
 ],
 "metadata": {
  "colab": {
   "provenance": []
  },
  "kernelspec": {
   "display_name": "Python 3 (ipykernel)",
   "language": "python",
   "name": "python3"
  },
  "language_info": {
   "codemirror_mode": {
    "name": "ipython",
    "version": 3
   },
   "file_extension": ".py",
   "mimetype": "text/x-python",
   "name": "python",
   "nbconvert_exporter": "python",
   "pygments_lexer": "ipython3",
   "version": "3.12.4"
  }
 },
 "nbformat": 4,
 "nbformat_minor": 5
}
