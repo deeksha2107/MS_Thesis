{
 "cells": [
  {
   "cell_type": "code",
   "execution_count": 1,
   "id": "8b44b887-8681-4eb7-8338-ac77cc1e1925",
   "metadata": {
    "id": "8b44b887-8681-4eb7-8338-ac77cc1e1925"
   },
   "outputs": [],
   "source": [
    "# Import the necessary libraries\n",
    "import pandas as pd\n",
    "import numpy as np\n",
    "import time\n",
    "import pickle\n",
    "from sklearn.metrics import classification_report, confusion_matrix, accuracy_score"
   ]
  },
  {
   "cell_type": "code",
   "execution_count": 2,
   "id": "bb482d83-6be5-4bfb-87ee-12a96099d967",
   "metadata": {},
   "outputs": [],
   "source": [
    "# Load the testing dataset\n",
    "df_test1 = pd.read_csv(\"Dataset2_1Train_new2.csv\")\n",
    "df_test2 = pd.read_csv(\"Dataset2_1Test_new2.csv\")\n",
    "df_test = pd.concat([df_test1, df_test2], axis=0, ignore_index=True)\n",
    "df_test = df_test.sample(frac=1).reset_index(drop=True)\n",
    "X_test1 = df_test['cleaned_text'].values\n",
    "y_test = df_test['label'].values"
   ]
  },
  {
   "cell_type": "code",
   "execution_count": 3,
   "id": "SXzH6YF9raTl",
   "metadata": {
    "colab": {
     "base_uri": "https://localhost:8080/",
     "height": 264
    },
    "id": "SXzH6YF9raTl",
    "outputId": "27e14c09-8272-4989-c8d9-ee92a988575f"
   },
   "outputs": [],
   "source": [
    "# Load the tokenizer\n",
    "with open(\"glove_vect_fit1.pkl\", \"rb\") as file:\n",
    "  glove_vect_fit = pickle.load(file)\n",
    "# Load the models\n",
    "with open(\"glove_mlp_model1.pkl\", \"rb\") as file:\n",
    "  glove_mlp_best_model = pickle.load(file)\n",
    "with open(\"glove_knn_model1.pkl\", \"rb\") as file:\n",
    "  glove_knn_best_model = pickle.load(file)\n",
    "with open(\"glove_rf_model1.pkl\", \"rb\") as file:\n",
    "  glove_rf_best_model = pickle.load(file)\n",
    "with open(\"glove_lr_model1.pkl\", \"rb\") as file:\n",
    "  glove_lr_best_model = pickle.load(file)\n",
    "with open(\"glove_svc_model1.pkl\", \"rb\") as file:\n",
    "  glove_svc_best_model = pickle.load(file)"
   ]
  },
  {
   "cell_type": "code",
   "execution_count": 4,
   "id": "194983fe-01e6-4b7b-adf4-7861bcac04b3",
   "metadata": {
    "id": "194983fe-01e6-4b7b-adf4-7861bcac04b3"
   },
   "outputs": [],
   "source": [
    "# Function to generate document vectors using GloVe embeddings\n",
    "def document_vector(glove_model, email):\n",
    "    words = email.split()\n",
    "    return np.mean([glove_model[word] for word in words if word in glove_model] or [np.zeros(len(next(iter(glove_model.values()))))], axis=0)\n",
    "    \n",
    "# Function to transform test data using GloVe embeddings\n",
    "def transform_glove(X_test, glove_model):\n",
    "    X_test_vectors = np.array([document_vector(glove_model, email) for email in X_test])\n",
    "    return X_test_vectors"
   ]
  },
  {
   "cell_type": "code",
   "execution_count": 5,
   "id": "d3893561-75a0-4961-86d3-66f8fbd988c9",
   "metadata": {
    "colab": {
     "base_uri": "https://localhost:8080/"
    },
    "id": "d3893561-75a0-4961-86d3-66f8fbd988c9",
    "outputId": "1ad508da-b7e7-4cdd-ae27-2146bc0f32b3"
   },
   "outputs": [
    {
     "name": "stdout",
     "output_type": "stream",
     "text": [
      "              precision    recall  f1-score   support\n",
      "\n",
      "           0       0.94      0.98      0.96     22458\n",
      "           1       0.88      0.71      0.79      4491\n",
      "\n",
      "    accuracy                           0.94     26949\n",
      "   macro avg       0.91      0.85      0.87     26949\n",
      "weighted avg       0.93      0.94      0.93     26949\n",
      "\n",
      "[[22010   448]\n",
      " [ 1298  3193]]\n",
      "Precision: 0.876956879978028\n",
      "Recall: 0.710977510576709\n",
      "FScore: 0.7852926709296606\n",
      "Testing Accuracy: 0.935210954024268\n",
      "The total testing time is 2.297351598739624 seconds\n"
     ]
    }
   ],
   "source": [
    "#Testing of Glove features of testing data using MLP\n",
    "def check_best_model_MLP(X_test, y_test, glove_mlp_best_model, glove_vect_fit):\n",
    "    start_time = time.time()\n",
    "    X_test = pd.Series(X_test)\n",
    "    X_test = X_test.fillna('')\n",
    "    X_test_feature = transform_glove(X_test, glove_vect_fit)\n",
    "    y_pred = glove_mlp_best_model.predict(X_test_feature)\n",
    "    print(classification_report(y_test, y_pred))\n",
    "    print(confusion_matrix(y_test, y_pred))\n",
    "    tn, fp, fn, tp = confusion_matrix(y_test, y_pred).ravel()\n",
    "    p = tp/(tp+fp)\n",
    "    r = tp/(tp+fn)\n",
    "    fscore = (2*p*r)/(p+r)\n",
    "    print(\"Precision:\",p)\n",
    "    print(\"Recall:\",r)\n",
    "    print(\"FScore:\",fscore)\n",
    "    accuracy = accuracy_score(y_test, y_pred)\n",
    "    print(\"Testing Accuracy:\",accuracy)\n",
    "    end_time = time.time()\n",
    "    print(f\"The total testing time is {end_time-start_time} seconds\")\n",
    "check_best_model_MLP(X_test1, y_test, glove_mlp_best_model, glove_vect_fit)"
   ]
  },
  {
   "cell_type": "code",
   "execution_count": 6,
   "id": "93eb7ce3-1992-4dd6-a2a3-c0d67543753c",
   "metadata": {
    "colab": {
     "base_uri": "https://localhost:8080/"
    },
    "id": "93eb7ce3-1992-4dd6-a2a3-c0d67543753c",
    "outputId": "90f36632-4eda-4ddc-c9b5-478b4de8aa7c"
   },
   "outputs": [
    {
     "name": "stdout",
     "output_type": "stream",
     "text": [
      "              precision    recall  f1-score   support\n",
      "\n",
      "           0       0.91      0.99      0.95     22458\n",
      "           1       0.90      0.51      0.65      4491\n",
      "\n",
      "    accuracy                           0.91     26949\n",
      "   macro avg       0.91      0.75      0.80     26949\n",
      "weighted avg       0.91      0.91      0.90     26949\n",
      "\n",
      "[[22211   247]\n",
      " [ 2210  2281]]\n",
      "Precision: 0.9022943037974683\n",
      "Recall: 0.5079046982854598\n",
      "FScore: 0.6499501353469156\n",
      "Testing Accuracy: 0.9088277858176556\n",
      "The total testing time is 4.786086082458496 seconds\n"
     ]
    }
   ],
   "source": [
    "#Testing of Glove features of testing data using KNN\n",
    "def check_best_model_KNN(X_test, y_test, glove_knn_best_model, glove_vect_fit):\n",
    "    start_time = time.time()\n",
    "    X_test = pd.Series(X_test)\n",
    "    X_test = X_test.fillna('')\n",
    "    X_test_feature = transform_glove(X_test, glove_vect_fit)\n",
    "    y_pred = glove_knn_best_model.predict(X_test_feature)\n",
    "    print(classification_report(y_test, y_pred))\n",
    "    print(confusion_matrix(y_test, y_pred))\n",
    "    tn, fp, fn, tp = confusion_matrix(y_test, y_pred).ravel()\n",
    "    p = tp/(tp+fp)\n",
    "    r = tp/(tp+fn)\n",
    "    fscore = (2*p*r)/(p+r)\n",
    "    print(\"Precision:\",p)\n",
    "    print(\"Recall:\",r)\n",
    "    print(\"FScore:\",fscore)\n",
    "    accuracy = accuracy_score(y_test, y_pred)\n",
    "    print(\"Testing Accuracy:\",accuracy)\n",
    "    end_time = time.time()\n",
    "    print(f\"The total testing time is {end_time-start_time} seconds\")\n",
    "check_best_model_KNN(X_test1, y_test, glove_knn_best_model, glove_vect_fit)"
   ]
  },
  {
   "cell_type": "code",
   "execution_count": 7,
   "id": "2473b717-8460-4c72-92e9-1f2cd032e5b3",
   "metadata": {
    "id": "2473b717-8460-4c72-92e9-1f2cd032e5b3"
   },
   "outputs": [
    {
     "name": "stdout",
     "output_type": "stream",
     "text": [
      "              precision    recall  f1-score   support\n",
      "\n",
      "           0       0.95      0.96      0.95     22458\n",
      "           1       0.79      0.73      0.75      4491\n",
      "\n",
      "    accuracy                           0.92     26949\n",
      "   macro avg       0.87      0.84      0.85     26949\n",
      "weighted avg       0.92      0.92      0.92     26949\n",
      "\n",
      "[[21574   884]\n",
      " [ 1234  3257]]\n",
      "Precision: 0.786524993962811\n",
      "Recall: 0.7252282342462704\n",
      "FScore: 0.754633920296571\n",
      "Testing Accuracy: 0.9214071023043526\n",
      "The total testing time is 2.4678077697753906 seconds\n"
     ]
    }
   ],
   "source": [
    "#Testing of Glove features of testing data using RF\n",
    "def check_best_model_RF(X_test, y_test, glove_rf_best_model, glove_vect_fit):\n",
    "    start_time = time.time()\n",
    "    X_test = pd.Series(X_test)\n",
    "    X_test = X_test.fillna('')\n",
    "    X_test_feature = transform_glove(X_test, glove_vect_fit)\n",
    "    y_pred = glove_rf_best_model.predict(X_test_feature)\n",
    "    print(classification_report(y_test, y_pred))\n",
    "    print(confusion_matrix(y_test, y_pred))\n",
    "    tn, fp, fn, tp = confusion_matrix(y_test, y_pred).ravel()\n",
    "    p = tp/(tp+fp)\n",
    "    r = tp/(tp+fn)\n",
    "    fscore = (2*p*r)/(p+r)\n",
    "    print(\"Precision:\",p)\n",
    "    print(\"Recall:\",r)\n",
    "    print(\"FScore:\",fscore)\n",
    "    accuracy = accuracy_score(y_test, y_pred)\n",
    "    print(\"Testing Accuracy:\",accuracy)\n",
    "    end_time = time.time()\n",
    "    print(f\"The total testing time is {end_time-start_time} seconds\")\n",
    "check_best_model_RF(X_test1, y_test, glove_rf_best_model, glove_vect_fit)"
   ]
  },
  {
   "cell_type": "code",
   "execution_count": 9,
   "id": "3900549a-fb32-48f2-afc5-97e2c68e7d1f",
   "metadata": {
    "colab": {
     "base_uri": "https://localhost:8080/"
    },
    "id": "3900549a-fb32-48f2-afc5-97e2c68e7d1f",
    "outputId": "4f73f073-f03c-4c63-a551-59353cbef0a8"
   },
   "outputs": [
    {
     "name": "stdout",
     "output_type": "stream",
     "text": [
      "              precision    recall  f1-score   support\n",
      "\n",
      "           0       0.95      0.97      0.96     22458\n",
      "           1       0.84      0.77      0.80      4491\n",
      "\n",
      "    accuracy                           0.94     26949\n",
      "   macro avg       0.90      0.87      0.88     26949\n",
      "weighted avg       0.94      0.94      0.94     26949\n",
      "\n",
      "[[21786   672]\n",
      " [ 1028  3463]]\n",
      "Precision: 0.837484885126965\n",
      "Recall: 0.7710977510576709\n",
      "FScore: 0.8029214004173428\n",
      "Testing Accuracy: 0.9369178819251178\n",
      "The total testing time is 2.187619209289551 seconds\n"
     ]
    }
   ],
   "source": [
    "#Testing of Glove features of testing data using LR\n",
    "def check_best_model_LR(X_test, y_test, glove_lr_best_model, glove_vect_fit):\n",
    "    start_time = time.time()\n",
    "    X_test = pd.Series(X_test)\n",
    "    X_test = X_test.fillna('')\n",
    "    X_test_feature = transform_glove(X_test, glove_vect_fit)\n",
    "    y_pred = glove_lr_best_model.predict(X_test_feature)\n",
    "    print(classification_report(y_test, y_pred))\n",
    "    print(confusion_matrix(y_test, y_pred))\n",
    "    tn, fp, fn, tp = confusion_matrix(y_test, y_pred).ravel()\n",
    "    p = tp/(tp+fp)\n",
    "    r = tp/(tp+fn)\n",
    "    fscore = (2*p*r)/(p+r)\n",
    "    print(\"Precision:\",p)\n",
    "    print(\"Recall:\",r)\n",
    "    print(\"FScore:\",fscore)\n",
    "    accuracy = accuracy_score(y_test, y_pred)\n",
    "    print(\"Testing Accuracy:\",accuracy)\n",
    "    end_time = time.time()\n",
    "    print(f\"The total testing time is {end_time-start_time} seconds\")\n",
    "check_best_model_LR(X_test1, y_test, glove_lr_best_model, glove_vect_fit)"
   ]
  },
  {
   "cell_type": "code",
   "execution_count": 10,
   "id": "0db59323-0bbe-4548-84c6-7685b2412ce1",
   "metadata": {
    "id": "0db59323-0bbe-4548-84c6-7685b2412ce1"
   },
   "outputs": [
    {
     "name": "stdout",
     "output_type": "stream",
     "text": [
      "              precision    recall  f1-score   support\n",
      "\n",
      "           0       0.95      0.98      0.97     22458\n",
      "           1       0.87      0.76      0.81      4491\n",
      "\n",
      "    accuracy                           0.94     26949\n",
      "   macro avg       0.91      0.87      0.89     26949\n",
      "weighted avg       0.94      0.94      0.94     26949\n",
      "\n",
      "[[21954   504]\n",
      " [ 1076  3415]]\n",
      "Precision: 0.8713957642255677\n",
      "Recall: 0.7604097083054999\n",
      "FScore: 0.812128418549346\n",
      "Testing Accuracy: 0.941370737318639\n",
      "The total testing time is 11.730715274810791 seconds\n"
     ]
    }
   ],
   "source": [
    "#Testing of Glove features of testing data using SVC\n",
    "def check_best_model_SVC(X_test, y_test, glove_svc_best_model, glove_vect_fit):\n",
    "    start_time = time.time()\n",
    "    X_test = pd.Series(X_test)\n",
    "    X_test = X_test.fillna('')\n",
    "    X_test_feature = transform_glove(X_test, glove_vect_fit)\n",
    "    y_pred = glove_svc_best_model.predict(X_test_feature)\n",
    "    print(classification_report(y_test, y_pred))\n",
    "    print(confusion_matrix(y_test, y_pred))\n",
    "    tn, fp, fn, tp = confusion_matrix(y_test, y_pred).ravel()\n",
    "    p = tp/(tp+fp)\n",
    "    r = tp/(tp+fn)\n",
    "    fscore = (2*p*r)/(p+r)\n",
    "    print(\"Precision:\",p)\n",
    "    print(\"Recall:\",r)\n",
    "    print(\"FScore:\",fscore)\n",
    "    accuracy = accuracy_score(y_test, y_pred)\n",
    "    print(\"Testing Accuracy:\",accuracy)\n",
    "    end_time = time.time()\n",
    "    print(f\"The total testing time is {end_time-start_time} seconds\")\n",
    "check_best_model_SVC(X_test1, y_test, glove_svc_best_model, glove_vect_fit)"
   ]
  },
  {
   "cell_type": "code",
   "execution_count": 11,
   "id": "2ff9af2b-1469-4ed0-86d2-4c0adb52e0f1",
   "metadata": {
    "id": "2ff9af2b-1469-4ed0-86d2-4c0adb52e0f1"
   },
   "outputs": [
    {
     "name": "stdout",
     "output_type": "stream",
     "text": [
      "All parameters: {'C': 10, 'break_ties': False, 'cache_size': 200, 'class_weight': None, 'coef0': 0.0, 'decision_function_shape': 'ovr', 'degree': 3, 'gamma': 'scale', 'kernel': 'rbf', 'max_iter': -1, 'probability': False, 'random_state': None, 'shrinking': True, 'tol': 0.001, 'verbose': False}\n"
     ]
    }
   ],
   "source": [
    "all_params = glove_svc_best_model.get_params()\n",
    "print(\"All parameters:\", all_params)"
   ]
  },
  {
   "cell_type": "code",
   "execution_count": 13,
   "id": "10bd5d67-cce0-42d1-b41c-7a555dc73f31",
   "metadata": {},
   "outputs": [
    {
     "name": "stdout",
     "output_type": "stream",
     "text": [
      "All parameters: {'activation': 'relu', 'alpha': 0.0001, 'batch_size': 'auto', 'beta_1': 0.9, 'beta_2': 0.999, 'early_stopping': False, 'epsilon': 1e-08, 'hidden_layer_sizes': (100,), 'learning_rate': 'constant', 'learning_rate_init': 0.001, 'max_fun': 15000, 'max_iter': 1000, 'momentum': 0.9, 'n_iter_no_change': 10, 'nesterovs_momentum': True, 'power_t': 0.5, 'random_state': None, 'shuffle': True, 'solver': 'adam', 'tol': 0.0001, 'validation_fraction': 0.1, 'verbose': False, 'warm_start': False}\n"
     ]
    }
   ],
   "source": [
    "all_params = glove_mlp_best_model.get_params()\n",
    "print(\"All parameters:\", all_params)"
   ]
  },
  {
   "cell_type": "code",
   "execution_count": 14,
   "id": "212aa10e-4c16-48f1-9c07-7f5427d05f00",
   "metadata": {},
   "outputs": [
    {
     "name": "stdout",
     "output_type": "stream",
     "text": [
      "All parameters: {'algorithm': 'auto', 'leaf_size': 30, 'metric': 'euclidean', 'metric_params': None, 'n_jobs': None, 'n_neighbors': 3, 'p': 2, 'weights': 'distance'}\n"
     ]
    }
   ],
   "source": [
    "all_params = glove_knn_best_model.get_params()\n",
    "print(\"All parameters:\", all_params)"
   ]
  },
  {
   "cell_type": "code",
   "execution_count": 15,
   "id": "d4ff2ed6-d75f-4d4d-b945-0de6ebea2fed",
   "metadata": {},
   "outputs": [
    {
     "name": "stdout",
     "output_type": "stream",
     "text": [
      "All parameters: {'C': 100, 'class_weight': None, 'dual': False, 'fit_intercept': True, 'intercept_scaling': 1, 'l1_ratio': None, 'max_iter': 100, 'multi_class': 'auto', 'n_jobs': None, 'penalty': 'l2', 'random_state': None, 'solver': 'newton-cg', 'tol': 0.0001, 'verbose': 0, 'warm_start': False}\n"
     ]
    }
   ],
   "source": [
    "all_params = glove_lr_best_model.get_params()\n",
    "print(\"All parameters:\", all_params)"
   ]
  },
  {
   "cell_type": "code",
   "execution_count": 16,
   "id": "90e9c377-4924-4f05-a6fb-9e68f62ef075",
   "metadata": {},
   "outputs": [
    {
     "name": "stdout",
     "output_type": "stream",
     "text": [
      "All parameters: {'bootstrap': True, 'ccp_alpha': 0.0, 'class_weight': None, 'criterion': 'gini', 'max_depth': None, 'max_features': 'sqrt', 'max_leaf_nodes': None, 'max_samples': None, 'min_impurity_decrease': 0.0, 'min_samples_leaf': 1, 'min_samples_split': 2, 'min_weight_fraction_leaf': 0.0, 'monotonic_cst': None, 'n_estimators': 100, 'n_jobs': None, 'oob_score': False, 'random_state': None, 'verbose': 0, 'warm_start': False}\n"
     ]
    }
   ],
   "source": [
    "all_params = glove_rf_best_model.get_params()\n",
    "print(\"All parameters:\", all_params)"
   ]
  }
 ],
 "metadata": {
  "colab": {
   "provenance": []
  },
  "kernelspec": {
   "display_name": "Python 3 (ipykernel)",
   "language": "python",
   "name": "python3"
  },
  "language_info": {
   "codemirror_mode": {
    "name": "ipython",
    "version": 3
   },
   "file_extension": ".py",
   "mimetype": "text/x-python",
   "name": "python",
   "nbconvert_exporter": "python",
   "pygments_lexer": "ipython3",
   "version": "3.12.4"
  }
 },
 "nbformat": 4,
 "nbformat_minor": 5
}
